{
 "cells": [
  {
   "cell_type": "markdown",
   "metadata": {},
   "source": [
    "# <h1 style=\"font-size:3rem;color:blue;\">Problem Set 2</h1>"
   ]
  },
  {
   "cell_type": "markdown",
   "metadata": {},
   "source": [
    "### Question 1: Consider the following Python module:"
   ]
  },
  {
   "cell_type": "code",
   "execution_count": null,
   "metadata": {},
   "outputs": [],
   "source": [
    "a = 0\n",
    "def b():\n",
    "    global a\n",
    "    a = c(a)\n",
    "def c(a):\n",
    "    return a+2"
   ]
  },
  {
   "cell_type": "markdown",
   "metadata": {},
   "source": [
    "#### After importing the module into the interpreter, you excute:"
   ]
  },
  {
   "cell_type": "code",
   "execution_count": null,
   "metadata": {},
   "outputs": [],
   "source": [
    ">>> b()\n",
    ">>> b()\n",
    ">>> b()\n",
    ">>> a"
   ]
  },
  {
   "cell_type": "markdown",
   "metadata": {},
   "source": [
    "#### What value is displayed when the last expression(a) is evaluated? Explain your answer by indicating what happens i every executed statement."
   ]
  },
  {
   "cell_type": "code",
   "execution_count": null,
   "metadata": {},
   "outputs": [],
   "source": [
    "a is a global variable, so it will be stored. b function is call c function, and c function will return a+2\n",
    "\n",
    "In the first b():\n",
    "Before enter c function: a = 0\n",
    "After enter c function: a = 2\n",
    "\n",
    "In the second b():\n",
    "Before enter c function: a = 2\n",
    "After enter c function: a = 4\n",
    "\n",
    "In the third b():\n",
    "Before enter c function: a = 4\n",
    "After enter c function: a = 6\n",
    "\n",
    "Overall, the answer of end will be 6."
   ]
  },
  {
   "cell_type": "markdown",
   "metadata": {},
   "source": [
    "### Question 2"
   ]
  },
  {
   "cell_type": "code",
   "execution_count": null,
   "metadata": {},
   "outputs": [],
   "source": [
    "Function fileLength(), given to you, takes the name of a file as imput and returns the length of the file:\n",
    ">>> fileLength('midterm.py')\n",
    "284\n",
    ">>> fileLength('idterm.py')\n",
    "Traceback (most recent call last):\n",
    "  File \"<pyshell#34>\", line 1, in <module>\n",
    "    fileLength('idterm.py')\n",
    "  File \"/Users/me/midterm.py\", line 3, in fileLength\n",
    "    infile = open(filename)\n",
    "FileNotFoundError: [Errno 2] No such file or directory:\n",
    "'idterm.py'"
   ]
  },
  {
   "cell_type": "markdown",
   "metadata": {},
   "source": [
    "#### As shown above, if the file cannot be found by the interpretor or if it cannot be read as a text file, an exception will be raised. Modify function $fileLength()$ so that a friendly message is printed instead:"
   ]
  },
  {
   "cell_type": "code",
   "execution_count": null,
   "metadata": {},
   "outputs": [],
   "source": [
    ">>> fileLength('midterm.py')\n",
    "358\n",
    ">>> fileLength('idterm.py')\n",
    "File idterm.py not found"
   ]
  },
  {
   "cell_type": "code",
   "execution_count": 1,
   "metadata": {},
   "outputs": [],
   "source": [
    "def fileLength(file_name):\n",
    "    try:\n",
    "        file = open(file_name)\n",
    "        contents = file.read()\n",
    "        file.close()\n",
    "        print(len(contents))\n",
    "        \n",
    "    except FileNotFoundError:\n",
    "        print(\"File {0} does not exist\".format(file_name))"
   ]
  },
  {
   "cell_type": "code",
   "execution_count": 2,
   "metadata": {},
   "outputs": [
    {
     "name": "stdout",
     "output_type": "stream",
     "text": [
      "123\n",
      "File ilelength.txt does not exist\n"
     ]
    }
   ],
   "source": [
    "# No 'midterm.py' in my folder\n",
    "# Use 'Filelength.txt' to replace\n",
    "\n",
    "fileLength('Filelength.txt')\n",
    "fileLength('ilelength.txt')"
   ]
  },
  {
   "cell_type": "markdown",
   "metadata": {},
   "source": [
    "# Question 3"
   ]
  },
  {
   "cell_type": "markdown",
   "metadata": {},
   "source": [
    "#### Write a class named Marsupial that can be used aas shown below:"
   ]
  },
  {
   "cell_type": "code",
   "execution_count": null,
   "metadata": {},
   "outputs": [],
   "source": [
    ">>> m = Marsupial()\n",
    ">>> m.put_in_pouch('doll')\n",
    ">>> m.put_in_pouch('firetruck')\n",
    ">>> m.put_in_pouch('kitten')\n",
    ">>> m.pouch_contents()\n",
    "['doll', 'firetruck', 'kitten']"
   ]
  },
  {
   "cell_type": "markdown",
   "metadata": {},
   "source": [
    "#### Now write a class named $Kangaroo$ as a subclass of $Marsupial$ that inherits all the attributes of $Marsupial$ and also:\n",
    "#### a. $extends$ the $𝑀𝑎𝑟𝑟𝑠𝑢𝑝𝑖𝑎𝑙$ $__init__$ constructor to take, as input, the coordinates $x$ and $y$ of the Kagaroo object.\n",
    "\n",
    "\n",
    "#### b. $support$ method $jump$ that takes number values $dx$ and $dy$ as input and moves the kangaroo by $dx$ units along the $x$-axis and by $dy$ units along the $y$-axis.\n",
    "#### c. $overloads$ the $__str__$ operator so it behaves as shown below."
   ]
  },
  {
   "cell_type": "code",
   "execution_count": 3,
   "metadata": {},
   "outputs": [],
   "source": [
    "class Marsupial(object):\n",
    "    def __init__(self):\n",
    "        self.storageStr = []\n",
    "        \n",
    "    def put_in_pouch(self, item):\n",
    "        return self.storageStr.append(item)\n",
    "    \n",
    "    def pouch_contents(self):\n",
    "        return self.storageStr"
   ]
  },
  {
   "cell_type": "code",
   "execution_count": 4,
   "metadata": {},
   "outputs": [
    {
     "data": {
      "text/plain": [
       "['doll', 'firetruck', 'kitten']"
      ]
     },
     "execution_count": 4,
     "metadata": {},
     "output_type": "execute_result"
    }
   ],
   "source": [
    "m = Marsupial()\n",
    "m.put_in_pouch('doll')\n",
    "m.put_in_pouch('firetruck')\n",
    "m.put_in_pouch('kitten')\n",
    "m.pouch_contents()"
   ]
  },
  {
   "cell_type": "code",
   "execution_count": 5,
   "metadata": {},
   "outputs": [],
   "source": [
    "class Kangaroo(Marsupial):\n",
    "    def __init__(self, dx, dy):\n",
    "        super().__init__()\n",
    "        self.dx = 0\n",
    "        self.dy = 0\n",
    "        \n",
    "    def __str__(self):\n",
    "        return (\"I am a Kangaroo located at coordinates({0}, {1})\".format(self.dx, self.dy))\n",
    "    \n",
    "    def jump(self, dx, dy):\n",
    "        self.dx = self.dx + dx\n",
    "        self.dy = self.dy + dy\n",
    "    "
   ]
  },
  {
   "cell_type": "code",
   "execution_count": 6,
   "metadata": {},
   "outputs": [
    {
     "name": "stdout",
     "output_type": "stream",
     "text": [
      "I am a Kangaroo located at coordinates(0, 0)\n"
     ]
    }
   ],
   "source": [
    "k = Kangaroo(0, 0)\n",
    "print(k)"
   ]
  },
  {
   "cell_type": "code",
   "execution_count": 7,
   "metadata": {},
   "outputs": [
    {
     "data": {
      "text/plain": [
       "['doll', 'firetruck', 'kitten']"
      ]
     },
     "execution_count": 7,
     "metadata": {},
     "output_type": "execute_result"
    }
   ],
   "source": [
    "k.put_in_pouch('doll')\n",
    "k.put_in_pouch('firetruck')\n",
    "k.put_in_pouch('kitten')\n",
    "k.pouch_contents()"
   ]
  },
  {
   "cell_type": "code",
   "execution_count": 8,
   "metadata": {},
   "outputs": [
    {
     "name": "stdout",
     "output_type": "stream",
     "text": [
      "I am a Kangaroo located at coordinates(3, 0)\n"
     ]
    }
   ],
   "source": [
    "k.jump(1, 0)\n",
    "k.jump(1, 0)\n",
    "k.jump(1, 0)\n",
    "print(k)"
   ]
  },
  {
   "cell_type": "markdown",
   "metadata": {},
   "source": [
    "### Question4"
   ]
  },
  {
   "cell_type": "markdown",
   "metadata": {},
   "source": [
    "Write function $collatz()$ that takes a positive integer $x$ as inpot and prints the Collatz sequence starting at $x$. A Collatz sequence is obtained by repeatedly applying this rule to the previous number $x$ in the sequence:\n",
    "\n",
    "\\begin{equation}\n",
    "    x = \n",
    "    \\begin{cases}\n",
    "        x/2 & if\\;x\\;is\\;even\\\\\n",
    "        3x+1 & if\\;x\\;is\\;odd\n",
    "    \\end{cases}\n",
    "\\end{equation}\n",
    "\n",
    "Your function should stop when the sequence gets to number 1. Your implementation must be recursive any loops.\n"
   ]
  },
  {
   "cell_type": "code",
   "execution_count": null,
   "metadata": {},
   "outputs": [],
   "source": [
    ">>> collatz(1)\n",
    "1\n",
    ">>> collatz(10)\n",
    "10\n",
    "5\n",
    "16\n",
    "8\n",
    "4\n",
    "2\n",
    "1"
   ]
  },
  {
   "cell_type": "code",
   "execution_count": 9,
   "metadata": {},
   "outputs": [],
   "source": [
    "def collatz(x):\n",
    "    if x==1:\n",
    "        print(1)\n",
    "    elif x>0 and x%2==0:\n",
    "        if x==1:\n",
    "            collatz(x)\n",
    "        else:\n",
    "            print(x)\n",
    "            x = int(x/2)\n",
    "            collatz(x)\n",
    "    elif x>0 and x%2==1:\n",
    "        print(x)\n",
    "        x = int(3*x+1)\n",
    "        collatz(x)\n",
    "    else:\n",
    "        print(\"Input Error, please input a positive integer.\")"
   ]
  },
  {
   "cell_type": "code",
   "execution_count": 10,
   "metadata": {},
   "outputs": [
    {
     "name": "stdout",
     "output_type": "stream",
     "text": [
      "1\n"
     ]
    }
   ],
   "source": [
    "collatz(1)"
   ]
  },
  {
   "cell_type": "code",
   "execution_count": 11,
   "metadata": {},
   "outputs": [
    {
     "name": "stdout",
     "output_type": "stream",
     "text": [
      "10\n",
      "5\n",
      "16\n",
      "8\n",
      "4\n",
      "2\n",
      "1\n"
     ]
    }
   ],
   "source": [
    "collatz(10)"
   ]
  },
  {
   "cell_type": "markdown",
   "metadata": {},
   "source": [
    "### Question 5"
   ]
  },
  {
   "cell_type": "markdown",
   "metadata": {},
   "source": [
    "Write a recursive method $binary()$ that takes a non-negative integer $n$ and prints the binary representation of integer $n$."
   ]
  },
  {
   "cell_type": "code",
   "execution_count": null,
   "metadata": {},
   "outputs": [],
   "source": [
    ">>> binary(0)\n",
    "0\n",
    ">>> binary(1)\n",
    "1\n",
    ">>> binary(3)\n",
    "11\n",
    ">>> binary(9)\n",
    "1001\n"
   ]
  },
  {
   "cell_type": "code",
   "execution_count": 12,
   "metadata": {},
   "outputs": [],
   "source": [
    "def binary(n):\n",
    "    if n>0:\n",
    "        if int(n/2)==0:\n",
    "            print(str(n%2), end='')\n",
    "        else:\n",
    "            binary(int(n/2))\n",
    "            print(n%2, end='')\n",
    "    elif n==0:\n",
    "        print(0)\n",
    "    else:\n",
    "        print('')"
   ]
  },
  {
   "cell_type": "code",
   "execution_count": 13,
   "metadata": {},
   "outputs": [
    {
     "name": "stdout",
     "output_type": "stream",
     "text": [
      "0\n"
     ]
    }
   ],
   "source": [
    "binary(0)"
   ]
  },
  {
   "cell_type": "code",
   "execution_count": 14,
   "metadata": {},
   "outputs": [
    {
     "name": "stdout",
     "output_type": "stream",
     "text": [
      "1"
     ]
    }
   ],
   "source": [
    "binary(1)"
   ]
  },
  {
   "cell_type": "code",
   "execution_count": 15,
   "metadata": {},
   "outputs": [
    {
     "name": "stdout",
     "output_type": "stream",
     "text": [
      "11"
     ]
    }
   ],
   "source": [
    "binary(3)"
   ]
  },
  {
   "cell_type": "code",
   "execution_count": 16,
   "metadata": {},
   "outputs": [
    {
     "name": "stdout",
     "output_type": "stream",
     "text": [
      "1001"
     ]
    }
   ],
   "source": [
    "binary(9)"
   ]
  },
  {
   "cell_type": "markdown",
   "metadata": {},
   "source": [
    "### Question 6"
   ]
  },
  {
   "cell_type": "markdown",
   "metadata": {},
   "source": [
    "Implement a class named $HeadingParser$ that can be used to parse an HTML document, and retrive and print all the headings in the document. You should implement your class as a subclass of $HTMLParser$, defined in Sandard Library module $html.parser$. When fed a string containing HTML code, your class should printthe headings, one per line and in the order in which they appear in the document. Each heading be indented as follows: an h1 heading should have indentation 0, and h2 heading should have indentation 1, etc. Test your implementation using w3c.html."
   ]
  },
  {
   "cell_type": "code",
   "execution_count": null,
   "metadata": {},
   "outputs": [],
   "source": [
    ">>> infile = open('w3c.html')\n",
    ">>> content = infile.read()\n",
    ">>> infile.close()\n",
    ">>> hp = HeadingParser()\n",
    ">>> hp.feed(content)\n",
    "W3C Mission\n",
    " Principles"
   ]
  },
  {
   "cell_type": "code",
   "execution_count": 17,
   "metadata": {},
   "outputs": [],
   "source": [
    "from html.parser import HTMLParser\n",
    "import re\n",
    "import itertools\n",
    "class HeadingParser(HTMLParser):\n",
    "    def __init__(self):\n",
    "        'initializes parser, the url, and a list'\n",
    "        HTMLParser.__init__(self)\n",
    "        self.inheading = False\n",
    "        self.mylist = ['h1', 'h2', 'h3', 'h4', 'h5', 'h6']\n",
    "        self.num = 0\n",
    "        \n",
    "        \n",
    "    def handle_starttag(self, tag, attrs):\n",
    "        reg = re.compile(r\"\\d\")\n",
    "        if (tag in self.mylist):\n",
    "            self.inheading = True\n",
    "            self.num = int(reg.findall(tag)[0])\n",
    "\n",
    "    def handle_data(self, data):\n",
    "        if self.inheading:\n",
    "            ## use tab will be more clear\n",
    "            ## in question, i must use indentation(tab)\n",
    "            ## but the result is space\n",
    "            ## which one i shoud use?\n",
    "#             print('\\t'*(self.num-1)+data)  \n",
    "            print(' '*(self.num-1)+data)\n",
    "            \n",
    "    def handle_endtag(self, tag):\n",
    "        if (tag in self.mylist):\n",
    "            self.inheading = False"
   ]
  },
  {
   "cell_type": "code",
   "execution_count": 18,
   "metadata": {},
   "outputs": [
    {
     "name": "stdout",
     "output_type": "stream",
     "text": [
      "W3C Mission\n",
      " Principles\n"
     ]
    }
   ],
   "source": [
    "infile = open('w3c.html') \n",
    "content = infile.read() \n",
    "infile.close() \n",
    "hp = HeadingParser() \n",
    "hp.feed(content) "
   ]
  },
  {
   "cell_type": "markdown",
   "metadata": {},
   "source": [
    "### Question 7"
   ]
  },
  {
   "cell_type": "markdown",
   "metadata": {},
   "source": [
    "Implement recursive function $webdir()$ that takes as input: a URL (as a string) and non-negative integers $depth$ and $indent$. Your function should visit every web page reachable from the starting URL web page in $depth$ clicks or less, and print each web page's URL. As shown below, indentation, specified by $indent$, should be used to indicate the depth of a URL."
   ]
  },
  {
   "cell_type": "code",
   "execution_count": null,
   "metadata": {},
   "outputs": [],
   "source": [
    ">>> webdir('http://reed.cs.depaul.eud/lperkovic/csc242/test1.html', 2, 0)\n"
   ]
  },
  {
   "cell_type": "code",
   "execution_count": 19,
   "metadata": {},
   "outputs": [
    {
     "name": "stdout",
     "output_type": "stream",
     "text": [
      "http://www.w3.org/Consortium/mission.html\n",
      "    http://open-stand.org/principles/\n",
      "        the link cannot allow to get the url\n",
      "    http://open-stand.org/\n",
      "        the link cannot allow to get the url\n",
      "    http://lists.w3.org/Archives/Public/site-comments/\n",
      "    http://twitter.com/W3C\n",
      "    http://www.csail.mit.edu/\n",
      "        http://cap.csail.mit.edu/\n",
      "        http://web.mit.edu/\n",
      "        http://cap.csail.mit.edu/\n",
      "        http://live-csail.pantheonsite.io/contact-us\n",
      "        http://live-csail.pantheonsite.io/contact-us\n",
      "    http://www.ercim.org/\n",
      "        http://www.sdnmicrosense.eu/\n",
      "        http://www.w3.org/\n",
      "        http://www.w3.org/\n",
      "    http://www.keio.ac.jp/\n",
      "        http://www.art-c.keio.ac.jp/en/news-events/event-archive/hijikata2022/\n",
      "        http://research-highlights.keio.ac.jp/\n",
      "    http://ev.buaa.edu.cn/\n",
      "        http://is.buaa.edu.cn/en/jxj.htm\n",
      "        http://is.buaa.edu.cn/en/\n",
      "        http://global.buaa.edu.cn/index.htm\n",
      "        http://is.buaa.edu.cn/en/jxj.htm\n",
      "        http://global.buaa.edu.cn/index.htm\n",
      "        http://is.buaa.edu.cn/en/\n",
      "        http://is.buaa.edu.cn/en/zxxx.htm\n"
     ]
    }
   ],
   "source": [
    "from urllib.request import urlopen\n",
    "\n",
    "def webdir(url, depth, indent):\n",
    "    try:\n",
    "        html = urlopen(url)\n",
    "        content = html.read()\n",
    "        plaincontent = content.decode('utf8')\n",
    "        links = re.findall(\"href=[\\\"\\'](.*?)[\\\"\\']\", plaincontent)\n",
    "        \n",
    "        if indent == 0:\n",
    "            print(url)\n",
    "            webdir(url, depth, indent+1)\n",
    "        elif indent <= depth:\n",
    "            \n",
    "            for i in links:\n",
    "                if re.findall(\"^http://\", i):\n",
    "                    ## use tab will be more clear\n",
    "                    ## in question, i must use indentation(tab)\n",
    "                    ## but the result is space\n",
    "                    ## which one i shoud use?\n",
    "    #                 print('\\t'*indent+i)\n",
    "                    print('    '*(indent)+i)\n",
    "                    webdir(i, depth, indent+1)\n",
    "    except:\n",
    "#         print('\\t'*indent+'the link cannot allow to get the url')\n",
    "\n",
    "\n",
    "        print('    '*indent+'the link cannot allow to get the url')\n",
    "\n",
    "## The example link of our assignment show the error 404\n",
    "## I use other link to show my result\n",
    "# url = 'http://reed.cs.depaul.edu/lperkovic/csc242/test1.html'\n",
    "url = 'http://www.w3.org/Consortium/mission.html'\n",
    "webdir(url, 2, 0)\n",
    "    "
   ]
  },
  {
   "cell_type": "markdown",
   "metadata": {},
   "source": [
    "### Question 8"
   ]
  },
  {
   "cell_type": "code",
   "execution_count": null,
   "metadata": {},
   "outputs": [],
   "source": [
    "Write SQL queries on the below database table that return:\n",
    "a) All the temperature data.\n",
    "b) All the cities, but without repetition.\n",
    "c) All the records for India.\n",
    "d) All the Fall records.\n",
    "e) The city, country, and season for which the average rainfall is between 200 and 400 millimeters.\n",
    "f) The city and country for which the average Fall temperature is abovve 20 degrees, in increasing temperature order.\n",
    "g) The total annual rainfall for Cairo.\n",
    "h) The total rainfall for each season."
   ]
  },
  {
   "cell_type": "code",
   "execution_count": null,
   "metadata": {},
   "outputs": [],
   "source": [
    "Answer for Question 8  \n",
    "\n",
    "a) \n",
    "%%sql \n",
    "SELECT Temperature(C) FROM database\n",
    "\n",
    "b) \n",
    "%%sql \n",
    "SELECT DISTINCT City FROM database\n",
    "\n",
    "c) \n",
    "%%sql \n",
    "SELECT * FROM database WHERE City = 'India'\n",
    "\n",
    "d) \n",
    "%%sql \n",
    "SELECT Season FROM database WHERE Season = 'Fall'\n",
    "\n",
    "e) \n",
    "%%sql \n",
    "SELECT City, Country, Season FROM database WHERE Rainfall(mm) BETWEEN 200 AND 400\n",
    "\n",
    "f) \n",
    "%%sql \n",
    "SELECT City, Country FROM database WHERE Season = 'Fall' AND Temperature(C) > 20 ORDER by Temperature ASC\n",
    "\n",
    "g) \n",
    "%%sql \n",
    "SELECT SUM(Rainfall(mm)) FROM database WHERE City ='Cairo'\n",
    "\n",
    "h) \n",
    "%%sql \n",
    "SELECT SUM(Rainfall(mm)) FROM database GROUP BY Season"
   ]
  },
  {
   "cell_type": "markdown",
   "metadata": {},
   "source": [
    "### Question 9"
   ]
  },
  {
   "cell_type": "markdown",
   "metadata": {},
   "source": [
    "#### Suppose list words is defined as follows:"
   ]
  },
  {
   "cell_type": "code",
   "execution_count": null,
   "metadata": {},
   "outputs": [],
   "source": [
    ">>> words = ['The', 'quick', 'brown', 'fox', 'jumps', 'over', 'the', 'lazy', 'dog']"
   ]
  },
  {
   "cell_type": "markdown",
   "metadata": {},
   "source": [
    "#### Write list comprehension expressions that use list $words$ and generate the following lists:"
   ]
  },
  {
   "cell_type": "code",
   "execution_count": null,
   "metadata": {},
   "outputs": [],
   "source": [
    "a) ['THE', 'QUICK', 'BROWN', 'FOX', 'JUMPS', 'OVER', 'THE', 'LAZY', 'DOG']\n",
    "\n",
    "b) ['the', 'quick', 'brown', 'fox', 'jumps', 'over', 'the', 'lazy', 'dog']\n",
    "\n",
    "c) [3, 5, 5, 3, 5, 4, 3, 4, 3](the list of lengths of words in list words).\n",
    "\n",
    "d) [['THE', 'the', 3], ['QUICK', 'quick', 5], ['BROWN', 'brown', 5], ['FOX', 'fox', 3], ['JUMPS', 'jumps', 5], ['OVER', 'over', 4], ['THE', 'the', 3], ['LAZY', 'lazy', 4], ['DOG', 'dog', 3]](the list containing a list for every word of list words, where each list contains the word in uppercase and lowercase and the length of the word.)\n",
    "\n",
    "e) ['The', 'quick', 'brown', 'fox', 'jumps', 'over', 'the', 'lazy', 'dog'](the list of words in list words containing 4 or more characters.)"
   ]
  },
  {
   "cell_type": "code",
   "execution_count": 20,
   "metadata": {},
   "outputs": [
    {
     "name": "stdout",
     "output_type": "stream",
     "text": [
      "a) ['THE', 'QUICK', 'BROWN', 'FOX', 'JUMPS', 'OVER', 'THE', 'LAZY', 'DOG']\n",
      "\n",
      "b) ['the', 'quick', 'brown', 'fox', 'jumps', 'over', 'the', 'lazy', 'dog']\n",
      "\n",
      "c) [3, 5, 5, 3, 5, 4, 3, 4, 3]\n",
      "\n",
      "d) [['THE', 'the', 3], ['QUICK', 'quick', 5], ['BROWN', 'brown', 5], ['FOX', 'fox', 3], ['JUMPS', 'jumps', 5], ['OVER', 'over', 4], ['THE', 'the', 3], ['LAZY', 'lazy', 4], ['DOG', 'dog', 3]]\n",
      "\n",
      "e) ['quick', 'brown', 'jumps', 'over', 'lazy']\n",
      "\n"
     ]
    }
   ],
   "source": [
    "words = ['The', 'quick', 'brown', 'fox', 'jumps', 'over', 'the', 'lazy', 'dog']\n",
    "words_up = [i.upper() for i in words]\n",
    "print('a) ' + str(words_up) + '\\n')\n",
    "words_low = [i.lower() for i in words]\n",
    "print('b) ' + str(words_low) + '\\n')\n",
    "words_len = [len(i) for i in words]\n",
    "print('c) ' + str(words_len) + '\\n')\n",
    "words_list = [[i.upper(), i.lower(), len(i)] for i in words]\n",
    "print('d) ' + str(words_list) + '\\n')\n",
    "words_if = [i for i in words if len(i)>=4 ]\n",
    "print('e) ' + str(words_if) + '\\n')"
   ]
  }
 ],
 "metadata": {
  "kernelspec": {
   "display_name": "Python 3",
   "language": "python",
   "name": "python3"
  },
  "language_info": {
   "codemirror_mode": {
    "name": "ipython",
    "version": 3
   },
   "file_extension": ".py",
   "mimetype": "text/x-python",
   "name": "python",
   "nbconvert_exporter": "python",
   "pygments_lexer": "ipython3",
   "version": "3.7.6"
  }
 },
 "nbformat": 4,
 "nbformat_minor": 4
}
